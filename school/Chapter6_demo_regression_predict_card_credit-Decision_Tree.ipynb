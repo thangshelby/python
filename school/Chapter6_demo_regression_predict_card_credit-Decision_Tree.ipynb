{
 "cells": [
  {
   "cell_type": "code",
   "execution_count": null,
   "id": "7853e092",
   "metadata": {},
   "outputs": [
    {
     "data": {
      "text/html": [
       "<div>\n",
       "<style scoped>\n",
       "    .dataframe tbody tr th:only-of-type {\n",
       "        vertical-align: middle;\n",
       "    }\n",
       "\n",
       "    .dataframe tbody tr th {\n",
       "        vertical-align: top;\n",
       "    }\n",
       "\n",
       "    .dataframe thead th {\n",
       "        text-align: right;\n",
       "    }\n",
       "</style>\n",
       "<table border=\"1\" class=\"dataframe\">\n",
       "  <thead>\n",
       "    <tr style=\"text-align: right;\">\n",
       "      <th></th>\n",
       "      <th>V7</th>\n",
       "      <th>V9</th>\n",
       "      <th>V10</th>\n",
       "      <th>V11</th>\n",
       "      <th>Amount</th>\n",
       "    </tr>\n",
       "  </thead>\n",
       "  <tbody>\n",
       "    <tr>\n",
       "      <th>0</th>\n",
       "      <td>0.239599</td>\n",
       "      <td>0.363787</td>\n",
       "      <td>0.090794</td>\n",
       "      <td>-0.551600</td>\n",
       "      <td>149.62</td>\n",
       "    </tr>\n",
       "    <tr>\n",
       "      <th>1</th>\n",
       "      <td>-0.078803</td>\n",
       "      <td>-0.255425</td>\n",
       "      <td>-0.166974</td>\n",
       "      <td>1.612727</td>\n",
       "      <td>2.69</td>\n",
       "    </tr>\n",
       "    <tr>\n",
       "      <th>2</th>\n",
       "      <td>0.791461</td>\n",
       "      <td>-1.514654</td>\n",
       "      <td>0.207643</td>\n",
       "      <td>0.624501</td>\n",
       "      <td>378.66</td>\n",
       "    </tr>\n",
       "    <tr>\n",
       "      <th>3</th>\n",
       "      <td>0.237609</td>\n",
       "      <td>-1.387024</td>\n",
       "      <td>-0.054952</td>\n",
       "      <td>-0.226487</td>\n",
       "      <td>123.50</td>\n",
       "    </tr>\n",
       "    <tr>\n",
       "      <th>4</th>\n",
       "      <td>0.592941</td>\n",
       "      <td>0.817739</td>\n",
       "      <td>0.753074</td>\n",
       "      <td>-0.822843</td>\n",
       "      <td>69.99</td>\n",
       "    </tr>\n",
       "    <tr>\n",
       "      <th>5</th>\n",
       "      <td>0.476201</td>\n",
       "      <td>-0.568671</td>\n",
       "      <td>-0.371407</td>\n",
       "      <td>1.341262</td>\n",
       "      <td>3.67</td>\n",
       "    </tr>\n",
       "    <tr>\n",
       "      <th>6</th>\n",
       "      <td>-0.005159</td>\n",
       "      <td>0.464960</td>\n",
       "      <td>-0.099254</td>\n",
       "      <td>-1.416907</td>\n",
       "      <td>4.99</td>\n",
       "    </tr>\n",
       "  </tbody>\n",
       "</table>\n",
       "</div>"
      ],
      "text/plain": [
       "         V7        V9       V10       V11  Amount\n",
       "0  0.239599  0.363787  0.090794 -0.551600  149.62\n",
       "1 -0.078803 -0.255425 -0.166974  1.612727    2.69\n",
       "2  0.791461 -1.514654  0.207643  0.624501  378.66\n",
       "3  0.237609 -1.387024 -0.054952 -0.226487  123.50\n",
       "4  0.592941  0.817739  0.753074 -0.822843   69.99\n",
       "5  0.476201 -0.568671 -0.371407  1.341262    3.67\n",
       "6 -0.005159  0.464960 -0.099254 -1.416907    4.99"
      ]
     },
     "execution_count": 1,
     "metadata": {},
     "output_type": "execute_result"
    }
   ],
   "source": [
    "import warnings\n",
    "import pandas as pd\n",
    "\n",
    "# Tắt cảnh báo\n",
    "warnings.filterwarnings('ignore')\n",
    "\n",
    "# Đường dẫn đến tệp CSV trên Google Drive\n",
    "url = 'https://drive.google.com/file/d/1qP_Z9V0wGWFOyMpVjNGw3CcpnbRHLSz_/view'\n",
    "url = 'https://drive.google.com/uc?id=' + url.split('/')[-2]\n",
    "df = pd.read_csv(url)\n",
    "selected_columns = [7, 9, 10, 11, df.columns.get_loc('Amount')]\n",
    "df.iloc[:7, selected_columns]"
   ]
  },
  {
   "cell_type": "code",
   "execution_count": 2,
   "id": "53d0e300",
   "metadata": {},
   "outputs": [
    {
     "name": "stdout",
     "output_type": "stream",
     "text": [
      "Mean Squared Error: 16360.2166446\n",
      "Average Mean Absolute Error: 42.731080000000006\n",
      "Average R2-Square: 0.5564808187063637\n",
      "Average Root Mean Squared: 117.7\n",
      "Explained Variance: 0.5603702906722677\n"
     ]
    }
   ],
   "source": [
    "import pandas as pd\n",
    "from sklearn.model_selection import KFold\n",
    "from sklearn.metrics import mean_squared_error, mean_absolute_error, r2_score, explained_variance_score\n",
    "from sklearn.tree import DecisionTreeRegressor\n",
    "\n",
    "data = df.head(1000)\n",
    " \n",
    "X = data[['V1', 'V2', 'V3', 'V4', 'V5', 'V6', 'V7', 'V8', 'V9', 'V10',\n",
    "          'V11', 'V12', 'V13', 'V14', 'V15', 'V16', 'V17', 'V18', 'V19', 'V20',\n",
    "          'V21', 'V22', 'V23', 'V24', 'V25', 'V26', 'V27', 'V28']]\n",
    "y = data['Amount']\n",
    "\n",
    "kf = KFold(n_splits=5, shuffle=True, random_state=42)\n",
    "\n",
    "dt_model = DecisionTreeRegressor(random_state=42)\n",
    "\n",
    "mse_values, mae_values, r2_values, rmse_values, evs_values = [], [], [], [], []\n",
    "\n",
    "for train_index, test_index in kf.split(X):\n",
    "    X_train, X_test = X.iloc[train_index], X.iloc[test_index]\n",
    "    y_train, y_test = y.iloc[train_index], y.iloc[test_index]\n",
    "\n",
    "    dt_model.fit(X_train, y_train)\n",
    "\n",
    "    predictions = dt_model.predict(X_test)\n",
    "\n",
    "    mse = mean_squared_error(y_test, predictions)\n",
    "    mae = mean_absolute_error(y_test, predictions)\n",
    "    r2 = r2_score(y_test, predictions)\n",
    "    rmse = mean_squared_error(y_test, predictions, squared=False)\n",
    "    evs = explained_variance_score(y_test, predictions)\n",
    "\n",
    "    mse_values.append(mse)\n",
    "    mae_values.append(mae)\n",
    "    r2_values.append(r2)\n",
    "    rmse_values.append(rmse)\n",
    "    evs_values.append(evs)\n",
    "\n",
    "avg_mse = sum(mse_values) / len(mse_values)\n",
    "avg_mae = sum(mae_values) / len(mae_values)\n",
    "avg_r2 = sum(r2_values) / len(r2_values)\n",
    "avg_rmse = sum(rmse_values) / len(rmse_values)\n",
    "avg_evs = sum(evs_values) / len(evs_values)\n",
    "\n",
    "print('Mean Squared Error:', avg_mse)\n",
    "print('Average Mean Absolute Error:', avg_mae)\n",
    "print('Average R2-Square:', avg_r2)\n",
    "print('Average Root Mean Squared:', round(avg_rmse, 2))\n",
    "print('Explained Variance:', avg_evs)\n"
   ]
  },
  {
   "cell_type": "code",
   "execution_count": 1,
   "id": "6656c496",
   "metadata": {},
   "outputs": [
    {
     "name": "stdout",
     "output_type": "stream",
     "text": [
      "sad\n"
     ]
    }
   ],
   "source": [
    "print('sad')"
   ]
  },
  {
   "cell_type": "code",
   "execution_count": null,
   "id": "923e616e",
   "metadata": {},
   "outputs": [],
   "source": []
  },
  {
   "cell_type": "markdown",
   "id": "859858d6",
   "metadata": {},
   "source": []
  }
 ],
 "metadata": {
  "kernelspec": {
   "display_name": "Python 3 (ipykernel)",
   "language": "python",
   "name": "python3"
  },
  "language_info": {
   "codemirror_mode": {
    "name": "ipython",
    "version": 3
   },
   "file_extension": ".py",
   "mimetype": "text/x-python",
   "name": "python",
   "nbconvert_exporter": "python",
   "pygments_lexer": "ipython3",
   "version": "3.12.0"
  }
 },
 "nbformat": 4,
 "nbformat_minor": 5
}
